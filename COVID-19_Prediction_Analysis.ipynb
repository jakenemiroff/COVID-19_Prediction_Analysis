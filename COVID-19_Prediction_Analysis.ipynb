{
 "cells": [
  {
   "cell_type": "code",
   "execution_count": 23,
   "metadata": {},
   "outputs": [],
   "source": [
    "# import necessary libraries\n",
    "\n",
    "import numpy as np\n",
    "import pandas as pd\n",
    "import matplotlib.pyplot as plt\n",
    "import matplotlib.colors as mc\n",
    "\n",
    "from sklearn.linear_model import LinearRegression\n",
    "from sklearn.model_selection import train_test_split\n",
    "from sklearn.preprocessing import PolynomialFeatures\n",
    "from sklearn.svm import SVR\n",
    "from sklearn.metrics import mean_squared_error, mean_absolute_error\n",
    "\n",
    "import math\n",
    "import random\n",
    "\n",
    "import datetime\n",
    "import time\n",
    "\n",
    "import operator"
   ]
  },
  {
   "cell_type": "code",
   "execution_count": 24,
   "metadata": {},
   "outputs": [],
   "source": [
    "# function to give correct date for making a correct to the github repo of latest data\n",
    "\n",
    "def getYesterday():\n",
    "    yesterday = datetime.date.today() - datetime.timedelta(days=1)\n",
    "    \n",
    "# returning a 0 at the beginning of the string\n",
    "# because the repository stores dates as 06 for the month of June for example\n",
    "    return \"{}-{}-{}\".format(yesterday.month, yesterday.day, yesterday.year) if yesterday.month >= 10 else \"0{}-{}-{}\".format(yesterday.month, yesterday.day, yesterday.year) "
   ]
  },
  {
   "cell_type": "code",
   "execution_count": 25,
   "metadata": {},
   "outputs": [],
   "source": [
    "# load data sets\n",
    "\n",
    "confirmed = pd.read_csv('https://raw.githubusercontent.com/CSSEGISandData/COVID-19/master/csse_covid_19_data/csse_covid_19_time_series/time_series_covid19_confirmed_global.csv')\n",
    "\n",
    "deaths = pd.read_csv('https://raw.githubusercontent.com/CSSEGISandData/COVID-19/master/csse_covid_19_data/csse_covid_19_time_series/time_series_covid19_deaths_global.csv')\n",
    "\n",
    "recovered = pd.read_csv('https://raw.githubusercontent.com/CSSEGISandData/COVID-19/master/csse_covid_19_data/csse_covid_19_time_series/time_series_covid19_recovered_global.csv')\n",
    "\n",
    "# technically getting data from yesterday, however this is to avoid a http error\n",
    "# the repository only updates right before midnight\n",
    "latest = pd.read_csv('https://raw.githubusercontent.com/CSSEGISandData/COVID-19/master/csse_covid_19_data/csse_covid_19_daily_reports/{}.csv'.format(getYesterday()))"
   ]
  },
  {
   "cell_type": "code",
   "execution_count": 26,
   "metadata": {},
   "outputs": [],
   "source": [
    "# retrieve data from respective columns by date\n",
    "\n",
    "columns = confirmed.keys()\n",
    "\n",
    "confirmed_cases_by_date = confirmed.loc[ : , columns[4] : columns[-1]]\n",
    "\n",
    "deaths_by_date = deaths.loc[ : , columns[4] : columns[-1]]\n",
    "\n",
    "recoveries_by_date = recovered.loc[ : , columns[4] : columns[-1]]"
   ]
  },
  {
   "cell_type": "code",
   "execution_count": 27,
   "metadata": {},
   "outputs": [],
   "source": [
    "# initialize lists to store data\n",
    "\n",
    "dates = confirmed_cases_by_date.keys()\n",
    "\n",
    "total_cases = []\n",
    "total_deaths = []\n",
    "mortality_rate = []\n",
    "recovery_rate = []\n",
    "total_recovered = []\n",
    "total_active = []\n",
    "\n",
    "china = {}\n",
    "china['cases'] = []\n",
    "china['deaths'] = []\n",
    "china['recoveries'] = []\n",
    "\n",
    "italy = {}\n",
    "italy['cases'] = []\n",
    "italy['deaths'] = []\n",
    "italy['recoveries'] = []\n",
    "\n",
    "us = {}\n",
    "us['cases'] = []\n",
    "us['deaths'] = []\n",
    "us['recoveries'] = []\n",
    "\n",
    "spain = {}\n",
    "spain['cases'] = []\n",
    "spain['deaths'] = []\n",
    "spain['recoveries'] = []\n",
    "\n",
    "france = {}\n",
    "france['cases'] = []\n",
    "france['deaths'] = []\n",
    "france['recoveries'] = []\n",
    "\n",
    "germany = {}\n",
    "germany['cases'] = []\n",
    "germany['deaths'] = []\n",
    "germany['recoveries'] = []\n",
    "\n",
    "uk = {}\n",
    "uk['cases'] = []\n",
    "uk['deaths'] = []\n",
    "uk['recoveries'] = []\n",
    "\n",
    "russia = {}\n",
    "russia['cases'] = []\n",
    "russia['deaths'] = []\n",
    "russia['recoveries'] = []\n",
    "\n",
    "india = {}\n",
    "india['cases'] = []\n",
    "india['deaths'] = []\n",
    "india['recoveries'] = []"
   ]
  }
 ],
 "metadata": {
  "kernelspec": {
   "display_name": "Python 3",
   "language": "python",
   "name": "python3"
  },
  "language_info": {
   "codemirror_mode": {
    "name": "ipython",
    "version": 3
   },
   "file_extension": ".py",
   "mimetype": "text/x-python",
   "name": "python",
   "nbconvert_exporter": "python",
   "pygments_lexer": "ipython3",
   "version": "3.8.2"
  }
 },
 "nbformat": 4,
 "nbformat_minor": 4
}
