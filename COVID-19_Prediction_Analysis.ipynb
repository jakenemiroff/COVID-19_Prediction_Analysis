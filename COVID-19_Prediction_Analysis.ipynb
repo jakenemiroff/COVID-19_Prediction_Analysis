{
 "cells": [
  {
   "cell_type": "code",
   "execution_count": 8,
   "metadata": {},
   "outputs": [],
   "source": [
    "# import necessary libraries\n",
    "\n",
    "import numpy as np\n",
    "import pandas as pd\n",
    "import matplotlib.pyplot as plt\n",
    "import matplotlib.colors as mc\n",
    "\n",
    "from sklearn.linear_model import LinearRegression\n",
    "from sklearn.model_selection import train_test_split\n",
    "from sklearn.preprocessing import PolynomialFeatures\n",
    "from sklearn.svm import SVR\n",
    "from sklearn.metrics import mean_squared_error, mean_absolute_error\n",
    "\n",
    "import math\n",
    "import random\n",
    "\n",
    "import datetime\n",
    "import time\n",
    "\n",
    "import operator"
   ]
  },
  {
   "cell_type": "code",
   "execution_count": 9,
   "metadata": {},
   "outputs": [],
   "source": [
    "# function to give correct date for making a correct to the github repo of latest data\n",
    "\n",
    "def getYesterday():\n",
    "    yesterday = datetime.date.today() - datetime.timedelta(days=1)\n",
    "    \n",
    "# returning a 0 at the beginning of the string\n",
    "# because the repository stores dates as 06 for the month of June for example\n",
    "    return \"0{}-{}-{}\".format(yesterday.month, yesterday.day, yesterday.year)"
   ]
  },
  {
   "cell_type": "code",
   "execution_count": 10,
   "metadata": {},
   "outputs": [],
   "source": [
    "# load data sets\n",
    "\n",
    "confirmed = pd.read_csv('https://raw.githubusercontent.com/CSSEGISandData/COVID-19/master/csse_covid_19_data/csse_covid_19_time_series/time_series_covid19_confirmed_global.csv')\n",
    "\n",
    "deaths = pd.read_csv('https://raw.githubusercontent.com/CSSEGISandData/COVID-19/master/csse_covid_19_data/csse_covid_19_time_series/time_series_covid19_deaths_global.csv')\n",
    "\n",
    "recovered = pd.read_csv('https://raw.githubusercontent.com/CSSEGISandData/COVID-19/master/csse_covid_19_data/csse_covid_19_time_series/time_series_covid19_recovered_global.csv')\n",
    "\n",
    "# technically getting data from yesterday, however this is to avoid a http error\n",
    "# the repository only updates right before midnight\n",
    "latest = pd.read_csv('https://raw.githubusercontent.com/CSSEGISandData/COVID-19/master/csse_covid_19_data/csse_covid_19_daily_reports/{}.csv'.format(getYesterday()))"
   ]
  },
  {
   "cell_type": "code",
   "execution_count": 12,
   "metadata": {},
   "outputs": [
    {
     "name": "stdout",
     "output_type": "stream",
     "text": [
      "     1/22/20  1/23/20  1/24/20  1/25/20  1/26/20  1/27/20  1/28/20  1/29/20  \\\n",
      "0          0        0        0        0        0        0        0        0   \n",
      "1          0        0        0        0        0        0        0        0   \n",
      "2          0        0        0        0        0        0        0        0   \n",
      "3          0        0        0        0        0        0        0        0   \n",
      "4          0        0        0        0        0        0        0        0   \n",
      "..       ...      ...      ...      ...      ...      ...      ...      ...   \n",
      "261        0        0        0        0        0        0        0        0   \n",
      "262        0        0        0        0        0        0        0        0   \n",
      "263        0        0        0        0        0        0        0        0   \n",
      "264        0        0        0        0        0        0        0        0   \n",
      "265        0        0        0        0        0        0        0        0   \n",
      "\n",
      "     1/30/20  1/31/20  ...  6/6/20  6/7/20  6/8/20  6/9/20  6/10/20  6/11/20  \\\n",
      "0          0        0  ...   19551   20342   20917   21459    22142    22890   \n",
      "1          0        0  ...    1232    1246    1263    1299     1341     1385   \n",
      "2          0        0  ...   10050   10154   10265   10382    10484    10589   \n",
      "3          0        0  ...     852     852     852     852      852      852   \n",
      "4          0        0  ...      88      91      92      96      113      118   \n",
      "..       ...      ...  ...     ...     ...     ...     ...      ...      ...   \n",
      "261        0        0  ...     499     513     513     514      611      632   \n",
      "262        0        0  ...     482     484     496     524      560      591   \n",
      "263        0        0  ...     141     141     141     141      162      162   \n",
      "264        0        0  ...    4453    4529    4609    4690     4763     4834   \n",
      "265        0        0  ...       4       4       4       4        4        4   \n",
      "\n",
      "     6/12/20  6/13/20  6/14/20  6/15/20  \n",
      "0      23546    24102    24766    25527  \n",
      "1       1416     1464     1521     1590  \n",
      "2      10698    10810    10919    11031  \n",
      "3        853      853      853      853  \n",
      "4        130      138      140      142  \n",
      "..       ...      ...      ...      ...  \n",
      "261      639      659      661      662  \n",
      "262      632      705      728      844  \n",
      "263      163      176      176      176  \n",
      "264     4902     4971     5035     5097  \n",
      "265        4        4        4        4  \n",
      "\n",
      "[266 rows x 146 columns]\n"
     ]
    }
   ],
   "source": [
    "# retrieve data from respective columns by date\n",
    "\n",
    "columns = confirmed.keys()\n",
    "\n",
    "confirmed_cases_by_date = confirmed.loc[: , columns[4] : columns[-1]]\n",
    "\n",
    "deaths_by_date = deaths.loc[: , columns[4] : columns[-1]]\n",
    "\n",
    "recoveries_by_date = recovered.loc[: , columns[4] : columns[-1]]\n"
   ]
  }
 ],
 "metadata": {
  "kernelspec": {
   "display_name": "Python 3",
   "language": "python",
   "name": "python3"
  },
  "language_info": {
   "codemirror_mode": {
    "name": "ipython",
    "version": 3
   },
   "file_extension": ".py",
   "mimetype": "text/x-python",
   "name": "python",
   "nbconvert_exporter": "python",
   "pygments_lexer": "ipython3",
   "version": "3.8.2"
  }
 },
 "nbformat": 4,
 "nbformat_minor": 4
}
